{
 "cells": [
  {
   "cell_type": "code",
   "execution_count": 4,
   "id": "676da7d4",
   "metadata": {},
   "outputs": [
    {
     "name": "stdout",
     "output_type": "stream",
     "text": [
      "1 2 3 4 5 6 7\n",
      "sample list is : -> [1, 2, 3, 4, 5, 6, 7]\n",
      "triple of list number is : [3, 6, 9, 12, 15, 18, 21]\n"
     ]
    }
   ],
   "source": [
    "'''Write a Python program to triple all numbers of a given list of integers. Use Python map.\n",
    "\n",
    "\n",
    "\n",
    "sample list: [1, 2, 3, 4, 5, 6, 7]\n",
    "\n",
    "\n",
    "\n",
    "Triple of list numbers:\n",
    "\n",
    "[3, 6, 9, 12, 15, 18, 21]\n",
    "\n",
    "'''\n",
    "def triple(x):\n",
    "    return x*3\n",
    "sample_list=list(map(int,input().split(' ')))\n",
    "print('sample list is : ->', sample_list)\n",
    "triple_of_list_numbers=list(map(triple,sample_list))\n",
    "print('triple of list number is :',triple_of_list_numbers)"
   ]
  },
  {
   "cell_type": "code",
   "execution_count": 6,
   "id": "e71c9736",
   "metadata": {},
   "outputs": [
    {
     "name": "stdout",
     "output_type": "stream",
     "text": [
      "-1 -2 3 -4 5 -6 7\n",
      "sample list is : -> [-1, -2, 3, -4, 5, -6, 7]\n",
      "triple of list number is : [-3, -6, 9, -12, 15, -18, 21]\n"
     ]
    }
   ],
   "source": [
    "sample_list=list(map(int,input().split(' ')))\n",
    "print('sample list is : ->', sample_list)\n",
    "triple_of_list_numbers=list(map(lambda x: x*3,sample_list))\n",
    "print('triple of list number is :',triple_of_list_numbers)"
   ]
  },
  {
   "cell_type": "code",
   "execution_count": null,
   "id": "8ffa7c01",
   "metadata": {},
   "outputs": [],
   "source": []
  }
 ],
 "metadata": {
  "kernelspec": {
   "display_name": "Python 3 (ipykernel)",
   "language": "python",
   "name": "python3"
  },
  "language_info": {
   "codemirror_mode": {
    "name": "ipython",
    "version": 3
   },
   "file_extension": ".py",
   "mimetype": "text/x-python",
   "name": "python",
   "nbconvert_exporter": "python",
   "pygments_lexer": "ipython3",
   "version": "3.9.6"
  }
 },
 "nbformat": 4,
 "nbformat_minor": 5
}
